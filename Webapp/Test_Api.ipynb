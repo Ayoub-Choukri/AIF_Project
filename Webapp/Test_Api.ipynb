{
 "cells": [
  {
   "cell_type": "code",
   "execution_count": 61,
   "metadata": {},
   "outputs": [],
   "source": [
    "\n",
    "\n",
    "\n",
    "import torch \n",
    "import requests"
   ]
  },
  {
   "cell_type": "code",
   "execution_count": 62,
   "metadata": {},
   "outputs": [],
   "source": [
    "Image_path = '/home/ayoubchoukri/Etudes/5A/S2/AI_Frameworks/Projet/Webapp/Saved_Images/Image_To_Predict.png'\n",
    "URL_API_MODEL = \"127.0.0.1\"\n",
    "PORT_API_MODEL = 5001\n",
    "\n",
    "\n",
    "\n",
    "\n",
    "\n",
    "\n"
   ]
  },
  {
   "cell_type": "code",
   "execution_count": 63,
   "metadata": {},
   "outputs": [
    {
     "name": "stdout",
     "output_type": "stream",
     "text": [
      "{'message': 'Model loaded and Annoy Index Loaded and Data Paths and Labels Loaded'}\n"
     ]
    }
   ],
   "source": [
    "Service_To_Send = {\"Service\" : \"Movie_Recommender\"}\n",
    "\n",
    "# Define the Service to send\n",
    "\n",
    "response = requests.post(f\"http://{URL_API_MODEL}:{PORT_API_MODEL}/define_service\", json=Service_To_Send)\n",
    "\n",
    "print(response.json())"
   ]
  },
  {
   "cell_type": "code",
   "execution_count": 64,
   "metadata": {},
   "outputs": [],
   "source": [
    "Image_path = \"/home/ayoubchoukri/Etudes/5A/S2/AI_Frameworks/Projet/Webapp/Saved_Images/Image_To_Predict.png\""
   ]
  },
  {
   "cell_type": "code",
   "execution_count": 68,
   "metadata": {},
   "outputs": [
    {
     "name": "stdout",
     "output_type": "stream",
     "text": [
      "Data/MovieGenre/content/sorted_movie_posters_paligema/science Fiction/2140.jpg\n"
     ]
    }
   ],
   "source": [
    "Image_Path_Send = {'Image_Path': Image_path}\n",
    "\n",
    "\n",
    "# Make the request \n",
    "\n",
    "response = requests.post(f'http://{URL_API_MODEL}:{PORT_API_MODEL}/predict', json=Image_Path_Send)\n",
    "\n",
    "\n",
    "print(response.json()['Neighbors_Paths'][0])\n"
   ]
  },
  {
   "cell_type": "code",
   "execution_count": 78,
   "metadata": {},
   "outputs": [],
   "source": [
    "URL_API_WEBAPP = \"127.0.0.1\"\n",
    "PORT_API_WEBAPP = 5000"
   ]
  },
  {
   "cell_type": "code",
   "execution_count": 79,
   "metadata": {},
   "outputs": [
    {
     "name": "stdout",
     "output_type": "stream",
     "text": [
      "{'message': 'Service Fully Defined'}\n"
     ]
    }
   ],
   "source": [
    "Service_To_Send = {\"Service\" : \"Movie_Recommender\"}\n",
    "\n",
    "# Define the Service to send\n",
    "\n",
    "response = requests.post(f\"http://{URL_API_WEBAPP}:{PORT_API_WEBAPP}/define_service\", json=Service_To_Send)\n",
    "\n",
    "print(response.json())"
   ]
  },
  {
   "cell_type": "code",
   "execution_count": null,
   "metadata": {},
   "outputs": [
    {
     "name": "stdout",
     "output_type": "stream",
     "text": [
      "{'Neighbors_Paths': ['Data/MovieGenre/content/sorted_movie_posters_paligema/science Fiction/2140.jpg', 'Data/MovieGenre/content/sorted_movie_posters_paligema/science Fiction/5356.jpg', 'Data/MovieGenre/content/sorted_movie_posters_paligema/animation/27064.jpg', 'Data/MovieGenre/content/sorted_movie_posters_paligema/animation/72356.jpg', 'Data/MovieGenre/content/sorted_movie_posters_paligema/comedy/120134.jpg']}\n"
     ]
    }
   ],
   "source": [
    "\n",
    "# Make the request \n",
    "\n",
    "response = requests.get(f'http://{URL_API_WEBAPP}:{PORT_API_WEBAPP}/ask_to_predict')\n",
    "\n",
    "5\n",
    "print(response.json())\n"
   ]
  }
 ],
 "metadata": {
  "kernelspec": {
   "display_name": "Personal",
   "language": "python",
   "name": "python3"
  },
  "language_info": {
   "codemirror_mode": {
    "name": "ipython",
    "version": 3
   },
   "file_extension": ".py",
   "mimetype": "text/x-python",
   "name": "python",
   "nbconvert_exporter": "python",
   "pygments_lexer": "ipython3",
   "version": "3.12.4"
  }
 },
 "nbformat": 4,
 "nbformat_minor": 2
}
